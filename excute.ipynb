{
 "cells": [
  {
   "cell_type": "code",
   "execution_count": 1,
   "metadata": {},
   "outputs": [],
   "source": [
    "import os\n",
    "import sys\n",
    "import json\n",
    "dir_path = './data/'\n"
   ]
  },
  {
   "cell_type": "code",
   "execution_count": null,
   "metadata": {},
   "outputs": [],
   "source": [
    "result = []\n",
    "\n",
    "# 자기 시작점과 끝점을 정해줘야함\n",
    "start = 278 \n",
    "end = 555 \n",
    "for i in range(start,end + 1):\n",
    "    file_path = dir_path + str(i) + '.json'\n",
    "    with open(file_path, \"r\") as json_file:\n",
    "        tmp = {}\n",
    "        var = json.load(json_file)\n",
    "        tmp[str(i)] = var['close']['cnclsns']\n",
    "        result.append(tmp)\n",
    "\n",
    "with open('total.json', 'w') as fp:\n",
    "    json.dump(result, fp, indent=4, sort_keys=True, ensure_ascii=False)"
   ]
  },
  {
   "cell_type": "code",
   "execution_count": 2,
   "metadata": {},
   "outputs": [],
   "source": [
    "# legal 에 찾은 무죄 번호 리스트로 입력 \n",
    "# 메모장에 적어놨다 기입\n",
    "\n",
    "legal = [257,298,357,371,385,392,399,429,459,469,473,479,484,493,496,501,508,535,544,553]\n",
    "for n,i in enumerate(legal):\n",
    "    legal[n] = str(i)"
   ]
  },
  {
   "cell_type": "code",
   "execution_count": 14,
   "metadata": {},
   "outputs": [],
   "source": [
    "# data 폴더 파일에 새로 라벨링해서 저장\n",
    "for i in range(278,556):\n",
    "    file_path = dir_path + str(i) + '.json'\n",
    "    var['infolab'] = \"1\"\n",
    "    for j in legal:\n",
    "        if j in str(i):\n",
    "            var['infolab'] = \"0\"\n",
    "            break\n",
    "\n",
    "    file_path = './data2/' + str(i) + '.json'\n",
    "    with open(file_path, 'w') as json_file:\n",
    "        json.dump(var, json_file, indent=4, ensure_ascii=False)\n",
    "        "
   ]
  }
 ],
 "metadata": {
  "kernelspec": {
   "display_name": "base",
   "language": "python",
   "name": "python3"
  },
  "language_info": {
   "codemirror_mode": {
    "name": "ipython",
    "version": 3
   },
   "file_extension": ".py",
   "mimetype": "text/x-python",
   "name": "python",
   "nbconvert_exporter": "python",
   "pygments_lexer": "ipython3",
   "version": "3.8.16"
  },
  "orig_nbformat": 4
 },
 "nbformat": 4,
 "nbformat_minor": 2
}
